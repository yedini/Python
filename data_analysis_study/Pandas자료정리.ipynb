{
 "cells": [
  {
   "cell_type": "markdown",
   "metadata": {},
   "source": [
    "# Pandas 1주차"
   ]
  },
  {
   "cell_type": "markdown",
   "metadata": {},
   "source": [
    "## 1. Pandas 소개\n",
    "\n",
    "### 1-1. pandas\n",
    " -\tpandas는 구조화된 데이터를 빠르고 다양하게 가공할 수 있는 함수를 제공하는 파이썬 라이브러리로, 데이터 분석에 매우 유용하게 쓰인다.\n",
    " - 행과 열을 가진 데이터 객체를 만들 수 있게 해준다.\n",
    " - 고성능 시계열 처리 기능과 금융 데이터에 맞는 도구를 제공한다.\n",
    " - pandas 라이브러리 불러오기\n"
   ]
  },
  {
   "cell_type": "code",
   "execution_count": 2,
   "metadata": {},
   "outputs": [],
   "source": [
    "import pandas as pd"
   ]
  },
  {
   "cell_type": "markdown",
   "metadata": {},
   "source": [
    "### 1-2. pandas 자료구조 소개\n",
    " (1) series\n",
    "  - 1차원 배열구조. value와 index의 형태를 지닌다.\n",
    "  - series 객체 생성하기"
   ]
  },
  {
   "cell_type": "markdown",
   "metadata": {},
   "source": [
    "#### pandas.Series(data=None, index=None,,,,)\n",
    "- data: series로 생성할 데이터 \n",
    "- index: 인덱스 지정. 지정하지 않을 경우 기본적으로 숫자를 할당한다."
   ]
  },
  {
   "cell_type": "code",
   "execution_count": 8,
   "metadata": {},
   "outputs": [
    {
     "name": "stdout",
     "output_type": "stream",
     "text": [
      "0     3\n",
      "1     9\n",
      "2    12\n",
      "3    -5\n",
      "4     7\n",
      "dtype: int64\n"
     ]
    }
   ],
   "source": [
    "from pandas import Series\n",
    "ex= Series([3,9,12,-5,7])\n",
    "print(ex)"
   ]
  },
  {
   "cell_type": "markdown",
   "metadata": {},
   "source": [
    " - value와 index 출력"
   ]
  },
  {
   "cell_type": "code",
   "execution_count": 10,
   "metadata": {},
   "outputs": [
    {
     "data": {
      "text/plain": [
       "array([ 3,  9, 12, -5,  7], dtype=int64)"
      ]
     },
     "execution_count": 10,
     "metadata": {},
     "output_type": "execute_result"
    }
   ],
   "source": [
    "ex.values"
   ]
  },
  {
   "cell_type": "code",
   "execution_count": 12,
   "metadata": {},
   "outputs": [
    {
     "data": {
      "text/plain": [
       "RangeIndex(start=0, stop=5, step=1)"
      ]
     },
     "execution_count": 12,
     "metadata": {},
     "output_type": "execute_result"
    }
   ],
   "source": [
    "ex.index"
   ]
  },
  {
   "cell_type": "markdown",
   "metadata": {},
   "source": [
    " - index를 지정하여 series 객체 생성"
   ]
  },
  {
   "cell_type": "code",
   "execution_count": 14,
   "metadata": {
    "scrolled": true
   },
   "outputs": [
    {
     "name": "stdout",
     "output_type": "stream",
     "text": [
      "a     3\n",
      "b     9\n",
      "c    12\n",
      "d    -5\n",
      "e     7\n",
      "dtype: int64\n"
     ]
    }
   ],
   "source": [
    "ex2=Series([3,9,12,-5,7], index=['a','b','c','d','e'])\n",
    "print(ex2)"
   ]
  },
  {
   "cell_type": "code",
   "execution_count": 15,
   "metadata": {},
   "outputs": [
    {
     "data": {
      "text/plain": [
       "Index(['a', 'b', 'c', 'd', 'e'], dtype='object')"
      ]
     },
     "execution_count": 15,
     "metadata": {},
     "output_type": "execute_result"
    }
   ],
   "source": [
    "ex2.index"
   ]
  },
  {
   "cell_type": "markdown",
   "metadata": {},
   "source": [
    " - 파이썬의 사전형 객체로부터 series 객체 생성"
   ]
  },
  {
   "cell_type": "code",
   "execution_count": 11,
   "metadata": {
    "scrolled": true
   },
   "outputs": [
    {
     "name": "stdout",
     "output_type": "stream",
     "text": [
      "korean     95\n",
      "math       98\n",
      "english    89\n",
      "dtype: int64\n"
     ]
    }
   ],
   "source": [
    "dic = {'korean':95, 'math':98, 'english':89}\n",
    "ex3=Series(dic)\n",
    "print(ex3)"
   ]
  },
  {
   "cell_type": "markdown",
   "metadata": {},
   "source": [
    " (2) Dataframe\n",
    "  - 2차원 형식의 자료구조. Row와 Column으로 이루어져있다.\n",
    "  - 데이터프레임 생성: 파이썬의 사전을 이용"
   ]
  },
  {
   "cell_type": "markdown",
   "metadata": {},
   "source": [
    "#### pandas.DataFrame(data=None, index=None, columns=None,,,,)\n",
    "- data: 데이터프레임으로 생성할 사전형, 데이터프레임 등의 배열\n",
    "- index: 데이터프레임에 지정할 인덱스. 기본적으로 숫자를 지정함\n",
    "- columns: 데이터프레임에 사용할 column 지정. 원하는 순서 지정가능"
   ]
  },
  {
   "cell_type": "code",
   "execution_count": 12,
   "metadata": {
    "scrolled": true
   },
   "outputs": [
    {
     "data": {
      "text/html": [
       "<div>\n",
       "<style scoped>\n",
       "    .dataframe tbody tr th:only-of-type {\n",
       "        vertical-align: middle;\n",
       "    }\n",
       "\n",
       "    .dataframe tbody tr th {\n",
       "        vertical-align: top;\n",
       "    }\n",
       "\n",
       "    .dataframe thead th {\n",
       "        text-align: right;\n",
       "    }\n",
       "</style>\n",
       "<table border=\"1\" class=\"dataframe\">\n",
       "  <thead>\n",
       "    <tr style=\"text-align: right;\">\n",
       "      <th></th>\n",
       "      <th>이름</th>\n",
       "      <th>수학</th>\n",
       "      <th>영어</th>\n",
       "      <th>국어</th>\n",
       "    </tr>\n",
       "  </thead>\n",
       "  <tbody>\n",
       "    <tr>\n",
       "      <th>1번</th>\n",
       "      <td>예진</td>\n",
       "      <td>96</td>\n",
       "      <td>90</td>\n",
       "      <td>84</td>\n",
       "    </tr>\n",
       "    <tr>\n",
       "      <th>2번</th>\n",
       "      <td>유희</td>\n",
       "      <td>91</td>\n",
       "      <td>86</td>\n",
       "      <td>95</td>\n",
       "    </tr>\n",
       "    <tr>\n",
       "      <th>3번</th>\n",
       "      <td>소연</td>\n",
       "      <td>89</td>\n",
       "      <td>93</td>\n",
       "      <td>92</td>\n",
       "    </tr>\n",
       "  </tbody>\n",
       "</table>\n",
       "</div>"
      ],
      "text/plain": [
       "    이름  수학  영어  국어\n",
       "1번  예진  96  90  84\n",
       "2번  유희  91  86  95\n",
       "3번  소연  89  93  92"
      ]
     },
     "execution_count": 12,
     "metadata": {},
     "output_type": "execute_result"
    }
   ],
   "source": [
    "from pandas import DataFrame\n",
    "data={'이름':['예진','유희','소연'],\n",
    "     '국어':[84,95,92],\n",
    "     '수학':[96,91,89],\n",
    "     '영어':[90,86,93]}\n",
    "subject=DataFrame(data, columns=['이름','수학','영어','국어'], index=['1번','2번','3번'])\n",
    "subject"
   ]
  },
  {
   "cell_type": "markdown",
   "metadata": {},
   "source": [
    "- column, row 선택"
   ]
  },
  {
   "cell_type": "code",
   "execution_count": 20,
   "metadata": {},
   "outputs": [
    {
     "data": {
      "text/plain": [
       "1번    예진\n",
       "2번    유희\n",
       "3번    소연\n",
       "Name: 이름, dtype: object"
      ]
     },
     "execution_count": 20,
     "metadata": {},
     "output_type": "execute_result"
    }
   ],
   "source": [
    "##열선택\n",
    "subject['이름']"
   ]
  },
  {
   "cell_type": "code",
   "execution_count": 17,
   "metadata": {},
   "outputs": [
    {
     "data": {
      "text/plain": [
       "1번    예진\n",
       "2번    유희\n",
       "3번    소연\n",
       "Name: 이름, dtype: object"
      ]
     },
     "execution_count": 17,
     "metadata": {},
     "output_type": "execute_result"
    }
   ],
   "source": [
    "subject.이름"
   ]
  },
  {
   "cell_type": "code",
   "execution_count": 18,
   "metadata": {
    "scrolled": true
   },
   "outputs": [
    {
     "data": {
      "text/html": [
       "<div>\n",
       "<style scoped>\n",
       "    .dataframe tbody tr th:only-of-type {\n",
       "        vertical-align: middle;\n",
       "    }\n",
       "\n",
       "    .dataframe tbody tr th {\n",
       "        vertical-align: top;\n",
       "    }\n",
       "\n",
       "    .dataframe thead th {\n",
       "        text-align: right;\n",
       "    }\n",
       "</style>\n",
       "<table border=\"1\" class=\"dataframe\">\n",
       "  <thead>\n",
       "    <tr style=\"text-align: right;\">\n",
       "      <th></th>\n",
       "      <th>이름</th>\n",
       "      <th>수학</th>\n",
       "      <th>영어</th>\n",
       "      <th>국어</th>\n",
       "    </tr>\n",
       "  </thead>\n",
       "  <tbody>\n",
       "    <tr>\n",
       "      <th>1번</th>\n",
       "      <td>예진</td>\n",
       "      <td>96</td>\n",
       "      <td>90</td>\n",
       "      <td>84</td>\n",
       "    </tr>\n",
       "    <tr>\n",
       "      <th>2번</th>\n",
       "      <td>유희</td>\n",
       "      <td>91</td>\n",
       "      <td>86</td>\n",
       "      <td>95</td>\n",
       "    </tr>\n",
       "  </tbody>\n",
       "</table>\n",
       "</div>"
      ],
      "text/plain": [
       "    이름  수학  영어  국어\n",
       "1번  예진  96  90  84\n",
       "2번  유희  91  86  95"
      ]
     },
     "execution_count": 18,
     "metadata": {},
     "output_type": "execute_result"
    }
   ],
   "source": [
    "##행선택\n",
    "subject['1번':'2번']  #인덱스 슬라이싱 이용"
   ]
  },
  {
   "cell_type": "code",
   "execution_count": 19,
   "metadata": {},
   "outputs": [
    {
     "data": {
      "text/plain": [
       "이름    소연\n",
       "수학    89\n",
       "영어    93\n",
       "국어    92\n",
       "Name: 3번, dtype: object"
      ]
     },
     "execution_count": 19,
     "metadata": {},
     "output_type": "execute_result"
    }
   ],
   "source": [
    "subject.loc['3번']"
   ]
  },
  {
   "cell_type": "markdown",
   "metadata": {},
   "source": [
    "- 열 추가"
   ]
  },
  {
   "cell_type": "code",
   "execution_count": 25,
   "metadata": {
    "scrolled": true
   },
   "outputs": [
    {
     "data": {
      "text/html": [
       "<div>\n",
       "<style scoped>\n",
       "    .dataframe tbody tr th:only-of-type {\n",
       "        vertical-align: middle;\n",
       "    }\n",
       "\n",
       "    .dataframe tbody tr th {\n",
       "        vertical-align: top;\n",
       "    }\n",
       "\n",
       "    .dataframe thead th {\n",
       "        text-align: right;\n",
       "    }\n",
       "</style>\n",
       "<table border=\"1\" class=\"dataframe\">\n",
       "  <thead>\n",
       "    <tr style=\"text-align: right;\">\n",
       "      <th></th>\n",
       "      <th>이름</th>\n",
       "      <th>수학</th>\n",
       "      <th>영어</th>\n",
       "      <th>국어</th>\n",
       "      <th>사회</th>\n",
       "    </tr>\n",
       "  </thead>\n",
       "  <tbody>\n",
       "    <tr>\n",
       "      <th>1번</th>\n",
       "      <td>예진</td>\n",
       "      <td>96</td>\n",
       "      <td>90</td>\n",
       "      <td>84</td>\n",
       "      <td>84</td>\n",
       "    </tr>\n",
       "    <tr>\n",
       "      <th>2번</th>\n",
       "      <td>유희</td>\n",
       "      <td>91</td>\n",
       "      <td>86</td>\n",
       "      <td>95</td>\n",
       "      <td>89</td>\n",
       "    </tr>\n",
       "    <tr>\n",
       "      <th>3번</th>\n",
       "      <td>소연</td>\n",
       "      <td>89</td>\n",
       "      <td>93</td>\n",
       "      <td>92</td>\n",
       "      <td>92</td>\n",
       "    </tr>\n",
       "  </tbody>\n",
       "</table>\n",
       "</div>"
      ],
      "text/plain": [
       "    이름  수학  영어  국어  사회\n",
       "1번  예진  96  90  84  84\n",
       "2번  유희  91  86  95  89\n",
       "3번  소연  89  93  92  92"
      ]
     },
     "execution_count": 25,
     "metadata": {},
     "output_type": "execute_result"
    }
   ],
   "source": [
    "subject['사회']=[84,89,92]\n",
    "subject"
   ]
  },
  {
   "cell_type": "markdown",
   "metadata": {},
   "source": [
    " - 행 추가"
   ]
  },
  {
   "cell_type": "code",
   "execution_count": 27,
   "metadata": {},
   "outputs": [
    {
     "data": {
      "text/html": [
       "<div>\n",
       "<style scoped>\n",
       "    .dataframe tbody tr th:only-of-type {\n",
       "        vertical-align: middle;\n",
       "    }\n",
       "\n",
       "    .dataframe tbody tr th {\n",
       "        vertical-align: top;\n",
       "    }\n",
       "\n",
       "    .dataframe thead th {\n",
       "        text-align: right;\n",
       "    }\n",
       "</style>\n",
       "<table border=\"1\" class=\"dataframe\">\n",
       "  <thead>\n",
       "    <tr style=\"text-align: right;\">\n",
       "      <th></th>\n",
       "      <th>이름</th>\n",
       "      <th>수학</th>\n",
       "      <th>영어</th>\n",
       "      <th>국어</th>\n",
       "      <th>사회</th>\n",
       "    </tr>\n",
       "  </thead>\n",
       "  <tbody>\n",
       "    <tr>\n",
       "      <th>1번</th>\n",
       "      <td>예진</td>\n",
       "      <td>96</td>\n",
       "      <td>90</td>\n",
       "      <td>84</td>\n",
       "      <td>84</td>\n",
       "    </tr>\n",
       "    <tr>\n",
       "      <th>2번</th>\n",
       "      <td>유희</td>\n",
       "      <td>91</td>\n",
       "      <td>86</td>\n",
       "      <td>95</td>\n",
       "      <td>89</td>\n",
       "    </tr>\n",
       "    <tr>\n",
       "      <th>3번</th>\n",
       "      <td>소연</td>\n",
       "      <td>89</td>\n",
       "      <td>93</td>\n",
       "      <td>92</td>\n",
       "      <td>92</td>\n",
       "    </tr>\n",
       "    <tr>\n",
       "      <th>4번</th>\n",
       "      <td>진수</td>\n",
       "      <td>94</td>\n",
       "      <td>82</td>\n",
       "      <td>91</td>\n",
       "      <td>90</td>\n",
       "    </tr>\n",
       "  </tbody>\n",
       "</table>\n",
       "</div>"
      ],
      "text/plain": [
       "    이름  수학  영어  국어  사회\n",
       "1번  예진  96  90  84  84\n",
       "2번  유희  91  86  95  89\n",
       "3번  소연  89  93  92  92\n",
       "4번  진수  94  82  91  90"
      ]
     },
     "execution_count": 27,
     "metadata": {},
     "output_type": "execute_result"
    }
   ],
   "source": [
    "subject.loc['4번']=['진수',94,82,91,90]\n",
    "subject"
   ]
  },
  {
   "cell_type": "markdown",
   "metadata": {},
   "source": [
    "\n",
    "## 2.데이터 입출력"
   ]
  },
  {
   "cell_type": "markdown",
   "metadata": {},
   "source": [
    "### (1) csv 파일 불러오기\n",
    "#### pandas.read_csv('파일경로/파일명', sep=',', header='infer', usecols=None, encoding=None, ,,,,)\n",
    " - sep : 파일내에서 사용하는 구분자 표시\n",
    " - header: 인식하기 시작할 행 지정\n",
    " - usecols : 원하는 일부 column만 인식\n",
    " - econding : 인코딩 지정\n",
    " \n",
    "#### pandas.Dataframe.head() \n",
    " - 위에서  n번째 행까지만 출력. default=5"
   ]
  },
  {
   "cell_type": "code",
   "execution_count": 29,
   "metadata": {},
   "outputs": [
    {
     "data": {
      "text/html": [
       "<div>\n",
       "<style scoped>\n",
       "    .dataframe tbody tr th:only-of-type {\n",
       "        vertical-align: middle;\n",
       "    }\n",
       "\n",
       "    .dataframe tbody tr th {\n",
       "        vertical-align: top;\n",
       "    }\n",
       "\n",
       "    .dataframe thead th {\n",
       "        text-align: right;\n",
       "    }\n",
       "</style>\n",
       "<table border=\"1\" class=\"dataframe\">\n",
       "  <thead>\n",
       "    <tr style=\"text-align: right;\">\n",
       "      <th></th>\n",
       "      <th>이름</th>\n",
       "      <th>수학</th>\n",
       "      <th>영어</th>\n",
       "      <th>국어</th>\n",
       "      <th>결과</th>\n",
       "    </tr>\n",
       "  </thead>\n",
       "  <tbody>\n",
       "    <tr>\n",
       "      <th>0</th>\n",
       "      <td>예진</td>\n",
       "      <td>96</td>\n",
       "      <td>90</td>\n",
       "      <td>84</td>\n",
       "      <td>90.00</td>\n",
       "    </tr>\n",
       "    <tr>\n",
       "      <th>1</th>\n",
       "      <td>유희</td>\n",
       "      <td>91</td>\n",
       "      <td>86</td>\n",
       "      <td>95</td>\n",
       "      <td>90.67</td>\n",
       "    </tr>\n",
       "    <tr>\n",
       "      <th>2</th>\n",
       "      <td>소연</td>\n",
       "      <td>89</td>\n",
       "      <td>93</td>\n",
       "      <td>92</td>\n",
       "      <td>91.30</td>\n",
       "    </tr>\n",
       "    <tr>\n",
       "      <th>3</th>\n",
       "      <td>진수</td>\n",
       "      <td>94</td>\n",
       "      <td>82</td>\n",
       "      <td>91</td>\n",
       "      <td>89.00</td>\n",
       "    </tr>\n",
       "  </tbody>\n",
       "</table>\n",
       "</div>"
      ],
      "text/plain": [
       "   이름  수학  영어  국어     결과\n",
       "0  예진  96  90  84  90.00\n",
       "1  유희  91  86  95  90.67\n",
       "2  소연  89  93  92  91.30\n",
       "3  진수  94  82  91  89.00"
      ]
     },
     "execution_count": 29,
     "metadata": {},
     "output_type": "execute_result"
    }
   ],
   "source": [
    "subject=pd.read_csv(\"C:\\\\Users\\dcng\\Documents\\subject.csv\", encoding='utf-8')\n",
    "subject.head()"
   ]
  },
  {
   "cell_type": "markdown",
   "metadata": {},
   "source": [
    "### (2) excel 파일 불러오기\n",
    "\n",
    "#### pandas.read_excel('파일경로/파일명', header=0, usecols=None,...)"
   ]
  },
  {
   "cell_type": "code",
   "execution_count": 38,
   "metadata": {},
   "outputs": [
    {
     "data": {
      "text/html": [
       "<div>\n",
       "<style scoped>\n",
       "    .dataframe tbody tr th:only-of-type {\n",
       "        vertical-align: middle;\n",
       "    }\n",
       "\n",
       "    .dataframe tbody tr th {\n",
       "        vertical-align: top;\n",
       "    }\n",
       "\n",
       "    .dataframe thead th {\n",
       "        text-align: right;\n",
       "    }\n",
       "</style>\n",
       "<table border=\"1\" class=\"dataframe\">\n",
       "  <thead>\n",
       "    <tr style=\"text-align: right;\">\n",
       "      <th></th>\n",
       "      <th>구분</th>\n",
       "      <th>3월4일</th>\n",
       "      <th>3월5일</th>\n",
       "      <th>3월6일</th>\n",
       "      <th>3월7일</th>\n",
       "      <th>3월8일</th>\n",
       "      <th>3월11일</th>\n",
       "      <th>3월12일</th>\n",
       "      <th>결석수</th>\n",
       "    </tr>\n",
       "  </thead>\n",
       "  <tbody>\n",
       "    <tr>\n",
       "      <th>0</th>\n",
       "      <td>예진</td>\n",
       "      <td>출석</td>\n",
       "      <td>출석</td>\n",
       "      <td>출석</td>\n",
       "      <td>출석</td>\n",
       "      <td>출석</td>\n",
       "      <td>결석</td>\n",
       "      <td>출석</td>\n",
       "      <td>1</td>\n",
       "    </tr>\n",
       "    <tr>\n",
       "      <th>1</th>\n",
       "      <td>유희</td>\n",
       "      <td>출석</td>\n",
       "      <td>출석</td>\n",
       "      <td>결석</td>\n",
       "      <td>출석</td>\n",
       "      <td>출석</td>\n",
       "      <td>출석</td>\n",
       "      <td>출석</td>\n",
       "      <td>1</td>\n",
       "    </tr>\n",
       "    <tr>\n",
       "      <th>2</th>\n",
       "      <td>소연</td>\n",
       "      <td>출석</td>\n",
       "      <td>출석</td>\n",
       "      <td>출석</td>\n",
       "      <td>출석</td>\n",
       "      <td>출석</td>\n",
       "      <td>출석</td>\n",
       "      <td>출석</td>\n",
       "      <td>0</td>\n",
       "    </tr>\n",
       "    <tr>\n",
       "      <th>3</th>\n",
       "      <td>진수</td>\n",
       "      <td>출석</td>\n",
       "      <td>결석</td>\n",
       "      <td>출석</td>\n",
       "      <td>출석</td>\n",
       "      <td>출석</td>\n",
       "      <td>출석</td>\n",
       "      <td>결석</td>\n",
       "      <td>2</td>\n",
       "    </tr>\n",
       "  </tbody>\n",
       "</table>\n",
       "</div>"
      ],
      "text/plain": [
       "   구분 3월4일 3월5일 3월6일 3월7일 3월8일 3월11일 3월12일  결석수\n",
       "0  예진   출석   출석   출석   출석   출석    결석    출석    1\n",
       "1  유희   출석   출석   결석   출석   출석    출석    출석    1\n",
       "2  소연   출석   출석   출석   출석   출석    출석    출석    0\n",
       "3  진수   출석   결석   출석   출석   출석    출석    결석    2"
      ]
     },
     "execution_count": 38,
     "metadata": {},
     "output_type": "execute_result"
    }
   ],
   "source": [
    "assignment=pd.read_excel(\"assignment.xls\", encoding='utf-8')\n",
    "assignment.head()"
   ]
  },
  {
   "cell_type": "code",
   "execution_count": 45,
   "metadata": {},
   "outputs": [
    {
     "data": {
      "text/html": [
       "<div>\n",
       "<style scoped>\n",
       "    .dataframe tbody tr th:only-of-type {\n",
       "        vertical-align: middle;\n",
       "    }\n",
       "\n",
       "    .dataframe tbody tr th {\n",
       "        vertical-align: top;\n",
       "    }\n",
       "\n",
       "    .dataframe thead th {\n",
       "        text-align: right;\n",
       "    }\n",
       "</style>\n",
       "<table border=\"1\" class=\"dataframe\">\n",
       "  <thead>\n",
       "    <tr style=\"text-align: right;\">\n",
       "      <th></th>\n",
       "      <th>구분</th>\n",
       "      <th>결석수</th>\n",
       "    </tr>\n",
       "  </thead>\n",
       "  <tbody>\n",
       "    <tr>\n",
       "      <th>0</th>\n",
       "      <td>예진</td>\n",
       "      <td>1</td>\n",
       "    </tr>\n",
       "    <tr>\n",
       "      <th>1</th>\n",
       "      <td>유희</td>\n",
       "      <td>1</td>\n",
       "    </tr>\n",
       "    <tr>\n",
       "      <th>2</th>\n",
       "      <td>소연</td>\n",
       "      <td>0</td>\n",
       "    </tr>\n",
       "    <tr>\n",
       "      <th>3</th>\n",
       "      <td>진수</td>\n",
       "      <td>2</td>\n",
       "    </tr>\n",
       "  </tbody>\n",
       "</table>\n",
       "</div>"
      ],
      "text/plain": [
       "   구분  결석수\n",
       "0  예진    1\n",
       "1  유희    1\n",
       "2  소연    0\n",
       "3  진수    2"
      ]
     },
     "execution_count": 45,
     "metadata": {},
     "output_type": "execute_result"
    }
   ],
   "source": [
    "#usecols 옵션을 사용하여 원하는 column만 불러오기\n",
    "assignment=pd.read_excel('assignment.xls',\n",
    "                       usecols=[0,8], encoding='utf-8')\n",
    "assignment.head()"
   ]
  },
  {
   "cell_type": "markdown",
   "metadata": {},
   "source": [
    "\n",
    "## 3. 이름 변경하기\n",
    "\n",
    "#### pandas.DataFrame.rename(mapper=None, index=None, columns=None, inplace=False,,,)\n",
    " - mapper, index, columns : 새로운 column 이름 지정\n",
    " - inplace: 새로운 열이름을 출력만 할 것인지 진짜 데이터프레임에 적용할 것인지 결정. default: False"
   ]
  },
  {
   "cell_type": "code",
   "execution_count": 47,
   "metadata": {},
   "outputs": [
    {
     "data": {
      "text/html": [
       "<div>\n",
       "<style scoped>\n",
       "    .dataframe tbody tr th:only-of-type {\n",
       "        vertical-align: middle;\n",
       "    }\n",
       "\n",
       "    .dataframe tbody tr th {\n",
       "        vertical-align: top;\n",
       "    }\n",
       "\n",
       "    .dataframe thead th {\n",
       "        text-align: right;\n",
       "    }\n",
       "</style>\n",
       "<table border=\"1\" class=\"dataframe\">\n",
       "  <thead>\n",
       "    <tr style=\"text-align: right;\">\n",
       "      <th></th>\n",
       "      <th>이름</th>\n",
       "      <th>수학</th>\n",
       "      <th>영어</th>\n",
       "      <th>국어</th>\n",
       "      <th>평균</th>\n",
       "    </tr>\n",
       "  </thead>\n",
       "  <tbody>\n",
       "    <tr>\n",
       "      <th>0</th>\n",
       "      <td>예진</td>\n",
       "      <td>96</td>\n",
       "      <td>90</td>\n",
       "      <td>84</td>\n",
       "      <td>90.00</td>\n",
       "    </tr>\n",
       "    <tr>\n",
       "      <th>1</th>\n",
       "      <td>유희</td>\n",
       "      <td>91</td>\n",
       "      <td>86</td>\n",
       "      <td>95</td>\n",
       "      <td>90.67</td>\n",
       "    </tr>\n",
       "    <tr>\n",
       "      <th>2</th>\n",
       "      <td>소연</td>\n",
       "      <td>89</td>\n",
       "      <td>93</td>\n",
       "      <td>92</td>\n",
       "      <td>91.30</td>\n",
       "    </tr>\n",
       "    <tr>\n",
       "      <th>3</th>\n",
       "      <td>진수</td>\n",
       "      <td>94</td>\n",
       "      <td>82</td>\n",
       "      <td>91</td>\n",
       "      <td>89.00</td>\n",
       "    </tr>\n",
       "  </tbody>\n",
       "</table>\n",
       "</div>"
      ],
      "text/plain": [
       "   이름  수학  영어  국어     평균\n",
       "0  예진  96  90  84  90.00\n",
       "1  유희  91  86  95  90.67\n",
       "2  소연  89  93  92  91.30\n",
       "3  진수  94  82  91  89.00"
      ]
     },
     "execution_count": 47,
     "metadata": {},
     "output_type": "execute_result"
    }
   ],
   "source": [
    "#subject의 '결과' 열 이름 바꾸기\n",
    "subject.rename(columns={subject.columns[4]:'평균'}, inplace=True)\n",
    "subject.head()"
   ]
  },
  {
   "cell_type": "code",
   "execution_count": 49,
   "metadata": {
    "scrolled": true
   },
   "outputs": [
    {
     "data": {
      "text/html": [
       "<div>\n",
       "<style scoped>\n",
       "    .dataframe tbody tr th:only-of-type {\n",
       "        vertical-align: middle;\n",
       "    }\n",
       "\n",
       "    .dataframe tbody tr th {\n",
       "        vertical-align: top;\n",
       "    }\n",
       "\n",
       "    .dataframe thead th {\n",
       "        text-align: right;\n",
       "    }\n",
       "</style>\n",
       "<table border=\"1\" class=\"dataframe\">\n",
       "  <thead>\n",
       "    <tr style=\"text-align: right;\">\n",
       "      <th></th>\n",
       "      <th>이름</th>\n",
       "      <th>결석수</th>\n",
       "    </tr>\n",
       "  </thead>\n",
       "  <tbody>\n",
       "    <tr>\n",
       "      <th>0</th>\n",
       "      <td>예진</td>\n",
       "      <td>1</td>\n",
       "    </tr>\n",
       "    <tr>\n",
       "      <th>1</th>\n",
       "      <td>유희</td>\n",
       "      <td>1</td>\n",
       "    </tr>\n",
       "    <tr>\n",
       "      <th>2</th>\n",
       "      <td>소연</td>\n",
       "      <td>0</td>\n",
       "    </tr>\n",
       "    <tr>\n",
       "      <th>3</th>\n",
       "      <td>진수</td>\n",
       "      <td>2</td>\n",
       "    </tr>\n",
       "  </tbody>\n",
       "</table>\n",
       "</div>"
      ],
      "text/plain": [
       "   이름  결석수\n",
       "0  예진    1\n",
       "1  유희    1\n",
       "2  소연    0\n",
       "3  진수    2"
      ]
     },
     "execution_count": 49,
     "metadata": {},
     "output_type": "execute_result"
    }
   ],
   "source": [
    "#assignment의 열 이름 바꾸기\n",
    "assignment.rename(columns={\"구분\":\"이름\"}, inplace=True)\n",
    "assignment.head()"
   ]
  },
  {
   "cell_type": "markdown",
   "metadata": {},
   "source": [
    "## 4. 데이터 정렬\n",
    "\n",
    "#### Pandas.DataFrame.sort_values(by, ascending=True, inplace=False,,,)\n",
    "-\tby: 정렬의 기준이 될 열 설정\n",
    "-\tascending: 오름차순(낮은 숫자에서 높은 숫자로) 또는 내림차순(높은 숫자에서 낮은 숫자로) 지정. default: 오름차순\n",
    "-\tinplace: 데이터프레임에 적용할 것인지 또는 출력만 할 것인지 결정. default: false\n"
   ]
  },
  {
   "cell_type": "code",
   "execution_count": 50,
   "metadata": {},
   "outputs": [
    {
     "data": {
      "text/html": [
       "<div>\n",
       "<style scoped>\n",
       "    .dataframe tbody tr th:only-of-type {\n",
       "        vertical-align: middle;\n",
       "    }\n",
       "\n",
       "    .dataframe tbody tr th {\n",
       "        vertical-align: top;\n",
       "    }\n",
       "\n",
       "    .dataframe thead th {\n",
       "        text-align: right;\n",
       "    }\n",
       "</style>\n",
       "<table border=\"1\" class=\"dataframe\">\n",
       "  <thead>\n",
       "    <tr style=\"text-align: right;\">\n",
       "      <th></th>\n",
       "      <th>이름</th>\n",
       "      <th>수학</th>\n",
       "      <th>영어</th>\n",
       "      <th>국어</th>\n",
       "      <th>평균</th>\n",
       "    </tr>\n",
       "  </thead>\n",
       "  <tbody>\n",
       "    <tr>\n",
       "      <th>2</th>\n",
       "      <td>소연</td>\n",
       "      <td>89</td>\n",
       "      <td>93</td>\n",
       "      <td>92</td>\n",
       "      <td>91.30</td>\n",
       "    </tr>\n",
       "    <tr>\n",
       "      <th>1</th>\n",
       "      <td>유희</td>\n",
       "      <td>91</td>\n",
       "      <td>86</td>\n",
       "      <td>95</td>\n",
       "      <td>90.67</td>\n",
       "    </tr>\n",
       "    <tr>\n",
       "      <th>0</th>\n",
       "      <td>예진</td>\n",
       "      <td>96</td>\n",
       "      <td>90</td>\n",
       "      <td>84</td>\n",
       "      <td>90.00</td>\n",
       "    </tr>\n",
       "    <tr>\n",
       "      <th>3</th>\n",
       "      <td>진수</td>\n",
       "      <td>94</td>\n",
       "      <td>82</td>\n",
       "      <td>91</td>\n",
       "      <td>89.00</td>\n",
       "    </tr>\n",
       "  </tbody>\n",
       "</table>\n",
       "</div>"
      ],
      "text/plain": [
       "   이름  수학  영어  국어     평균\n",
       "2  소연  89  93  92  91.30\n",
       "1  유희  91  86  95  90.67\n",
       "0  예진  96  90  84  90.00\n",
       "3  진수  94  82  91  89.00"
      ]
     },
     "execution_count": 50,
     "metadata": {},
     "output_type": "execute_result"
    }
   ],
   "source": [
    "#subject 데이터를 평균이 높은 순서로 정렬하기\n",
    "subject.sort_values(by='평균', ascending=False)"
   ]
  },
  {
   "cell_type": "code",
   "execution_count": 52,
   "metadata": {},
   "outputs": [
    {
     "data": {
      "text/html": [
       "<div>\n",
       "<style scoped>\n",
       "    .dataframe tbody tr th:only-of-type {\n",
       "        vertical-align: middle;\n",
       "    }\n",
       "\n",
       "    .dataframe tbody tr th {\n",
       "        vertical-align: top;\n",
       "    }\n",
       "\n",
       "    .dataframe thead th {\n",
       "        text-align: right;\n",
       "    }\n",
       "</style>\n",
       "<table border=\"1\" class=\"dataframe\">\n",
       "  <thead>\n",
       "    <tr style=\"text-align: right;\">\n",
       "      <th></th>\n",
       "      <th>이름</th>\n",
       "      <th>수학</th>\n",
       "      <th>영어</th>\n",
       "      <th>국어</th>\n",
       "      <th>평균</th>\n",
       "    </tr>\n",
       "  </thead>\n",
       "  <tbody>\n",
       "    <tr>\n",
       "      <th>0</th>\n",
       "      <td>소연</td>\n",
       "      <td>89</td>\n",
       "      <td>93</td>\n",
       "      <td>92</td>\n",
       "      <td>91.30</td>\n",
       "    </tr>\n",
       "    <tr>\n",
       "      <th>1</th>\n",
       "      <td>유희</td>\n",
       "      <td>91</td>\n",
       "      <td>86</td>\n",
       "      <td>95</td>\n",
       "      <td>90.67</td>\n",
       "    </tr>\n",
       "    <tr>\n",
       "      <th>2</th>\n",
       "      <td>예진</td>\n",
       "      <td>96</td>\n",
       "      <td>90</td>\n",
       "      <td>84</td>\n",
       "      <td>90.00</td>\n",
       "    </tr>\n",
       "    <tr>\n",
       "      <th>3</th>\n",
       "      <td>진수</td>\n",
       "      <td>94</td>\n",
       "      <td>82</td>\n",
       "      <td>91</td>\n",
       "      <td>89.00</td>\n",
       "    </tr>\n",
       "  </tbody>\n",
       "</table>\n",
       "</div>"
      ],
      "text/plain": [
       "   이름  수학  영어  국어     평균\n",
       "0  소연  89  93  92  91.30\n",
       "1  유희  91  86  95  90.67\n",
       "2  예진  96  90  84  90.00\n",
       "3  진수  94  82  91  89.00"
      ]
     },
     "execution_count": 52,
     "metadata": {},
     "output_type": "execute_result"
    }
   ],
   "source": [
    "subject.sort_values(by='평균', ascending=False).reset_index(drop=True)"
   ]
  },
  {
   "cell_type": "markdown",
   "metadata": {},
   "source": [
    "#### pandas.DataFrame.reset_index(level=None, drop=False, inplace=False,,,,)\n",
    "- levels: 선택된 레벨의 인덱스만 삭제. Default로 모든 인덱스를 지움.\n",
    "- drop: 지운 인덱스를 하나의 열로 추가할지 말지 결정. drop=false일 경우 index라는 열이름으로 새로운 열이 생김\n",
    "- inplace: 데이터프레임에 적용할 것인지 또는 출력만 할 것인지 결정.\n"
   ]
  }
 ],
 "metadata": {
  "kernelspec": {
   "display_name": "Python 3",
   "language": "python",
   "name": "python3"
  },
  "language_info": {
   "codemirror_mode": {
    "name": "ipython",
    "version": 3
   },
   "file_extension": ".py",
   "mimetype": "text/x-python",
   "name": "python",
   "nbconvert_exporter": "python",
   "pygments_lexer": "ipython3",
   "version": "3.7.1"
  }
 },
 "nbformat": 4,
 "nbformat_minor": 2
}
