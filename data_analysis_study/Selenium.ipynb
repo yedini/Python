{
 "cells": [
  {
   "cell_type": "code",
   "execution_count": 3,
   "metadata": {},
   "outputs": [],
   "source": [
    "from selenium import webdriver"
   ]
  },
  {
   "cell_type": "code",
   "execution_count": 4,
   "metadata": {},
   "outputs": [],
   "source": [
    "#webdriver 파일경로 할당\n",
    "path='C:/Users/dcng/Downloads/chromedriver_win32/chromedriver.exe'"
   ]
  },
  {
   "cell_type": "code",
   "execution_count": 5,
   "metadata": {},
   "outputs": [],
   "source": [
    "#크롬 브라우저 연결하기\n",
    "driver=webdriver.Chrome(path)"
   ]
  },
  {
   "cell_type": "markdown",
   "metadata": {},
   "source": [
    "#### 실습 1)구글에서 python 검색하기"
   ]
  },
  {
   "cell_type": "code",
   "execution_count": 6,
   "metadata": {},
   "outputs": [],
   "source": [
    "#사이트 접속하기\n",
    "driver.get('https://www.google.com')"
   ]
  },
  {
   "cell_type": "code",
   "execution_count": 7,
   "metadata": {},
   "outputs": [],
   "source": [
    "#검색창 지정\n",
    "search=driver.find_element_by_name('q')"
   ]
  },
  {
   "cell_type": "code",
   "execution_count": 8,
   "metadata": {},
   "outputs": [],
   "source": [
    "#검색창에 python 검색하기\n",
    "search.send_keys('python')\n",
    "search.submit()"
   ]
  },
  {
   "cell_type": "markdown",
   "metadata": {},
   "source": [
    "#### 실습 2)서울시 주유소 - 구별 최저가 주유소 찾기"
   ]
  },
  {
   "cell_type": "code",
   "execution_count": 13,
   "metadata": {},
   "outputs": [],
   "source": [
    "driver.get('http://www.opinet.co.kr/searRgSelect.do')"
   ]
  },
  {
   "cell_type": "code",
   "execution_count": 14,
   "metadata": {},
   "outputs": [],
   "source": [
    "list=driver.find_element_by_xpath('//*[@id=\"SIGUNGU_NM0\"]')"
   ]
  },
  {
   "cell_type": "code",
   "execution_count": 15,
   "metadata": {},
   "outputs": [],
   "source": [
    "list_option=list.find_elements_by_tag_name('option')"
   ]
  },
  {
   "cell_type": "code",
   "execution_count": 16,
   "metadata": {},
   "outputs": [],
   "source": [
    "names=[option.get_attribute('value') for option in list_option]"
   ]
  },
  {
   "cell_type": "code",
   "execution_count": 11,
   "metadata": {},
   "outputs": [
    {
     "data": {
      "text/plain": [
       "['',\n",
       " '강남구',\n",
       " '강동구',\n",
       " '강북구',\n",
       " '강서구',\n",
       " '관악구',\n",
       " '광진구',\n",
       " '구로구',\n",
       " '금천구',\n",
       " '노원구',\n",
       " '도봉구',\n",
       " '동대문구',\n",
       " '동작구',\n",
       " '마포구',\n",
       " '서대문구',\n",
       " '서초구',\n",
       " '성동구',\n",
       " '성북구',\n",
       " '송파구',\n",
       " '양천구',\n",
       " '영등포구',\n",
       " '용산구',\n",
       " '은평구',\n",
       " '종로구',\n",
       " '중구',\n",
       " '중랑구']"
      ]
     },
     "execution_count": 11,
     "metadata": {},
     "output_type": "execute_result"
    }
   ],
   "source": [
    "names"
   ]
  },
  {
   "cell_type": "code",
   "execution_count": 17,
   "metadata": {},
   "outputs": [],
   "source": [
    "#공백값 제거\n",
    "names.remove('')"
   ]
  },
  {
   "cell_type": "code",
   "execution_count": 18,
   "metadata": {},
   "outputs": [],
   "source": [
    "select=driver.find_element_by_id('SIGUNGU_NM0') #지역구 칸 지정\n",
    "select.send_keys(names[0])"
   ]
  },
  {
   "cell_type": "code",
   "execution_count": 19,
   "metadata": {
    "scrolled": true
   },
   "outputs": [
    {
     "data": {
      "text/plain": [
       "'고급휘발유\\n보통휘발유\\n경유\\n실내등유\\n최저가순 검색결과 (총 42개)\\n불법불법 셀프셀프 인증인증\\n주유소명 휘발유 경유\\n평균가격 1647 1522\\n(주)보성 세곡주... 셀프 1378 1279\\n(주)정원이디에쓰... 셀프 1403 1305\\n현대오일뱅크 도곡... 셀프 1408 1310\\n현대오일뱅크(주)... 1426 1328\\nSK서광주유소 셀프 1445 1345\\n방죽주유소 셀프 1449 1339\\n(주)선진도곡주유... 1465 1360\\n은마주유소 1470 1370\\n주성주유소 1474 1370\\n에쓰-오일(주)직... 1480 1380\\n지에스타워주유소 1480 1380\\n(주)동하힐탑셀프... 셀프 1480 1380\\n삼성로주유소 셀프 1480 1380\\n자곡셀프주유소 셀프 1488 1368\\n대동석유 압구정주... 셀프 1498 1398\\n에스제이에너지(주... 1498 1398\\n청명주유소 1499 1399\\n일원주유소 셀프 1519 1399\\n주식회사 논현에너... 1526 1416\\n주)중앙에너비스 ... 셀프 1538 1398\\nSK네트웍스(주)... 셀프 1539 1439\\nsk네트웍스(주)... 1569 1469\\n(주)새서울석유 1637 1537\\n현대오일뱅크(주)... 1698 1588\\n대청주유소 1729 1599\\n대교주유소 1740 1540\\n학여울주유소 1794 1639\\nSK논현주유소 1798 1688\\n동일석유(주)직영... 1798 1598\\n(주)소모에너지엔... 1845 1663\\n명품주유소 1888 1746\\n현대오일뱅크(주)... 1892 1698\\n경원주유소 1897 1760\\n대성석유(주)동호... 1897 1697\\n갤러리아주유소 1919 1774\\n선우상사 1928 1747\\n(주)만정에너지 1935 1785\\n금성주유소 1939 1829\\n오천주유소 1969 1819\\n뉴서울(강남) 2080 1980\\n삼성주유소 - -\\n동우주유소 - -\\n엑셀저장'"
      ]
     },
     "execution_count": 19,
     "metadata": {},
     "output_type": "execute_result"
    }
   ],
   "source": [
    "#주유소 정보 텍스트 가져오기\n",
    "info_path=driver.find_element_by_xpath('//*[@id=\"templ_list0\"]')\n",
    "info=info_path.text\n",
    "info"
   ]
  },
  {
   "cell_type": "code",
   "execution_count": 20,
   "metadata": {},
   "outputs": [
    {
     "data": {
      "text/plain": [
       "True"
      ]
     },
     "execution_count": 20,
     "metadata": {},
     "output_type": "execute_result"
    }
   ],
   "source": [
    "driver.save_screenshot('C:/Users/dcng/screen.png')"
   ]
  },
  {
   "cell_type": "code",
   "execution_count": null,
   "metadata": {},
   "outputs": [],
   "source": [
    "######## 실습\n",
    "## (1) 네이버(https://www.naver.com)에 접속하여 '뉴스' 메뉴에 들어간 뒤 가장 많이 본 뉴스 기사제목 리스트 가져오기\n",
    "## (2) 뉴스 검색 창에서 '트럼프' 검색하기"
   ]
  }
 ],
 "metadata": {
  "kernelspec": {
   "display_name": "Python 3",
   "language": "python",
   "name": "python3"
  },
  "language_info": {
   "codemirror_mode": {
    "name": "ipython",
    "version": 3
   },
   "file_extension": ".py",
   "mimetype": "text/x-python",
   "name": "python",
   "nbconvert_exporter": "python",
   "pygments_lexer": "ipython3",
   "version": "3.7.1"
  }
 },
 "nbformat": 4,
 "nbformat_minor": 2
}
